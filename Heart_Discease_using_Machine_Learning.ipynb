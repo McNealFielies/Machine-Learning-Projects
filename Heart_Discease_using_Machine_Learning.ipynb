{
  "nbformat": 4,
  "nbformat_minor": 0,
  "metadata": {
    "colab": {
      "provenance": [],
      "authorship_tag": "ABX9TyOIPudNl0RpAVqpCnilxNv0",
      "include_colab_link": true
    },
    "kernelspec": {
      "name": "python3",
      "display_name": "Python 3"
    },
    "language_info": {
      "name": "python"
    }
  },
  "cells": [
    {
      "cell_type": "markdown",
      "metadata": {
        "id": "view-in-github",
        "colab_type": "text"
      },
      "source": [
        "<a href=\"https://colab.research.google.com/github/McNealFielies/McNealFielies.github.io/blob/main/Heart_Discease_using_Machine_Learning.ipynb\" target=\"_parent\"><img src=\"https://colab.research.google.com/assets/colab-badge.svg\" alt=\"Open In Colab\"/></a>"
      ]
    },
    {
      "cell_type": "markdown",
      "source": [
        "![8Mg2k3Mh6rtJGz8A5cixUG-320-80.jpg](data:image/jpeg;base64,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)"
      ],
      "metadata": {
        "id": "mzmcqMl3yVi5"
      }
    },
    {
      "cell_type": "markdown",
      "source": [
        "# **Importing the necessary libraries**"
      ],
      "metadata": {
        "id": "Uc0rjIHC6u7i"
      }
    },
    {
      "cell_type": "code",
      "execution_count": 1,
      "metadata": {
        "id": "h9chKOre5ck8"
      },
      "outputs": [],
      "source": [
        "import pandas as pd\n",
        "import numpy as np\n",
        "import matplotlib.pyplot as plt\n",
        "import seaborn as sns\n",
        "from sklearn.model_selection import train_test_split\n",
        "from sklearn.linear_model import LogisticRegression\n",
        "from sklearn.metrics import accuracy_score"
      ]
    },
    {
      "cell_type": "markdown",
      "source": [
        "# **Collecting the data and analyze it**"
      ],
      "metadata": {
        "id": "ffCRZndZ7E36"
      }
    },
    {
      "cell_type": "code",
      "source": [
        "df = pd.read_csv(\"/content/heart.csv\")"
      ],
      "metadata": {
        "id": "URzI8Ikb7I8T"
      },
      "execution_count": 2,
      "outputs": []
    },
    {
      "cell_type": "code",
      "source": [
        "df.head()"
      ],
      "metadata": {
        "colab": {
          "base_uri": "https://localhost:8080/",
          "height": 206
        },
        "id": "lIXyqqxZ7e6K",
        "outputId": "be3dbf7a-ccdb-4f3f-c963-170465cb622d"
      },
      "execution_count": 3,
      "outputs": [
        {
          "output_type": "execute_result",
          "data": {
            "text/plain": [
              "   age  sex  cp  trestbps  chol  fbs  restecg  thalach  exang  oldpeak  slope  \\\n",
              "0   52    1   0       125   212    0        1      168      0      1.0      2   \n",
              "1   53    1   0       140   203    1        0      155      1      3.1      0   \n",
              "2   70    1   0       145   174    0        1      125      1      2.6      0   \n",
              "3   61    1   0       148   203    0        1      161      0      0.0      2   \n",
              "4   62    0   0       138   294    1        1      106      0      1.9      1   \n",
              "\n",
              "   ca  thal  target  \n",
              "0   2     3       0  \n",
              "1   0     3       0  \n",
              "2   0     3       0  \n",
              "3   1     3       0  \n",
              "4   3     2       0  "
            ],
            "text/html": [
              "\n",
              "  <div id=\"df-bfb7f3a4-f154-43fd-b890-6291f0338d71\">\n",
              "    <div class=\"colab-df-container\">\n",
              "      <div>\n",
              "<style scoped>\n",
              "    .dataframe tbody tr th:only-of-type {\n",
              "        vertical-align: middle;\n",
              "    }\n",
              "\n",
              "    .dataframe tbody tr th {\n",
              "        vertical-align: top;\n",
              "    }\n",
              "\n",
              "    .dataframe thead th {\n",
              "        text-align: right;\n",
              "    }\n",
              "</style>\n",
              "<table border=\"1\" class=\"dataframe\">\n",
              "  <thead>\n",
              "    <tr style=\"text-align: right;\">\n",
              "      <th></th>\n",
              "      <th>age</th>\n",
              "      <th>sex</th>\n",
              "      <th>cp</th>\n",
              "      <th>trestbps</th>\n",
              "      <th>chol</th>\n",
              "      <th>fbs</th>\n",
              "      <th>restecg</th>\n",
              "      <th>thalach</th>\n",
              "      <th>exang</th>\n",
              "      <th>oldpeak</th>\n",
              "      <th>slope</th>\n",
              "      <th>ca</th>\n",
              "      <th>thal</th>\n",
              "      <th>target</th>\n",
              "    </tr>\n",
              "  </thead>\n",
              "  <tbody>\n",
              "    <tr>\n",
              "      <th>0</th>\n",
              "      <td>52</td>\n",
              "      <td>1</td>\n",
              "      <td>0</td>\n",
              "      <td>125</td>\n",
              "      <td>212</td>\n",
              "      <td>0</td>\n",
              "      <td>1</td>\n",
              "      <td>168</td>\n",
              "      <td>0</td>\n",
              "      <td>1.0</td>\n",
              "      <td>2</td>\n",
              "      <td>2</td>\n",
              "      <td>3</td>\n",
              "      <td>0</td>\n",
              "    </tr>\n",
              "    <tr>\n",
              "      <th>1</th>\n",
              "      <td>53</td>\n",
              "      <td>1</td>\n",
              "      <td>0</td>\n",
              "      <td>140</td>\n",
              "      <td>203</td>\n",
              "      <td>1</td>\n",
              "      <td>0</td>\n",
              "      <td>155</td>\n",
              "      <td>1</td>\n",
              "      <td>3.1</td>\n",
              "      <td>0</td>\n",
              "      <td>0</td>\n",
              "      <td>3</td>\n",
              "      <td>0</td>\n",
              "    </tr>\n",
              "    <tr>\n",
              "      <th>2</th>\n",
              "      <td>70</td>\n",
              "      <td>1</td>\n",
              "      <td>0</td>\n",
              "      <td>145</td>\n",
              "      <td>174</td>\n",
              "      <td>0</td>\n",
              "      <td>1</td>\n",
              "      <td>125</td>\n",
              "      <td>1</td>\n",
              "      <td>2.6</td>\n",
              "      <td>0</td>\n",
              "      <td>0</td>\n",
              "      <td>3</td>\n",
              "      <td>0</td>\n",
              "    </tr>\n",
              "    <tr>\n",
              "      <th>3</th>\n",
              "      <td>61</td>\n",
              "      <td>1</td>\n",
              "      <td>0</td>\n",
              "      <td>148</td>\n",
              "      <td>203</td>\n",
              "      <td>0</td>\n",
              "      <td>1</td>\n",
              "      <td>161</td>\n",
              "      <td>0</td>\n",
              "      <td>0.0</td>\n",
              "      <td>2</td>\n",
              "      <td>1</td>\n",
              "      <td>3</td>\n",
              "      <td>0</td>\n",
              "    </tr>\n",
              "    <tr>\n",
              "      <th>4</th>\n",
              "      <td>62</td>\n",
              "      <td>0</td>\n",
              "      <td>0</td>\n",
              "      <td>138</td>\n",
              "      <td>294</td>\n",
              "      <td>1</td>\n",
              "      <td>1</td>\n",
              "      <td>106</td>\n",
              "      <td>0</td>\n",
              "      <td>1.9</td>\n",
              "      <td>1</td>\n",
              "      <td>3</td>\n",
              "      <td>2</td>\n",
              "      <td>0</td>\n",
              "    </tr>\n",
              "  </tbody>\n",
              "</table>\n",
              "</div>\n",
              "      <button class=\"colab-df-convert\" onclick=\"convertToInteractive('df-bfb7f3a4-f154-43fd-b890-6291f0338d71')\"\n",
              "              title=\"Convert this dataframe to an interactive table.\"\n",
              "              style=\"display:none;\">\n",
              "        \n",
              "  <svg xmlns=\"http://www.w3.org/2000/svg\" height=\"24px\"viewBox=\"0 0 24 24\"\n",
              "       width=\"24px\">\n",
              "    <path d=\"M0 0h24v24H0V0z\" fill=\"none\"/>\n",
              "    <path d=\"M18.56 5.44l.94 2.06.94-2.06 2.06-.94-2.06-.94-.94-2.06-.94 2.06-2.06.94zm-11 1L8.5 8.5l.94-2.06 2.06-.94-2.06-.94L8.5 2.5l-.94 2.06-2.06.94zm10 10l.94 2.06.94-2.06 2.06-.94-2.06-.94-.94-2.06-.94 2.06-2.06.94z\"/><path d=\"M17.41 7.96l-1.37-1.37c-.4-.4-.92-.59-1.43-.59-.52 0-1.04.2-1.43.59L10.3 9.45l-7.72 7.72c-.78.78-.78 2.05 0 2.83L4 21.41c.39.39.9.59 1.41.59.51 0 1.02-.2 1.41-.59l7.78-7.78 2.81-2.81c.8-.78.8-2.07 0-2.86zM5.41 20L4 18.59l7.72-7.72 1.47 1.35L5.41 20z\"/>\n",
              "  </svg>\n",
              "      </button>\n",
              "      \n",
              "  <style>\n",
              "    .colab-df-container {\n",
              "      display:flex;\n",
              "      flex-wrap:wrap;\n",
              "      gap: 12px;\n",
              "    }\n",
              "\n",
              "    .colab-df-convert {\n",
              "      background-color: #E8F0FE;\n",
              "      border: none;\n",
              "      border-radius: 50%;\n",
              "      cursor: pointer;\n",
              "      display: none;\n",
              "      fill: #1967D2;\n",
              "      height: 32px;\n",
              "      padding: 0 0 0 0;\n",
              "      width: 32px;\n",
              "    }\n",
              "\n",
              "    .colab-df-convert:hover {\n",
              "      background-color: #E2EBFA;\n",
              "      box-shadow: 0px 1px 2px rgba(60, 64, 67, 0.3), 0px 1px 3px 1px rgba(60, 64, 67, 0.15);\n",
              "      fill: #174EA6;\n",
              "    }\n",
              "\n",
              "    [theme=dark] .colab-df-convert {\n",
              "      background-color: #3B4455;\n",
              "      fill: #D2E3FC;\n",
              "    }\n",
              "\n",
              "    [theme=dark] .colab-df-convert:hover {\n",
              "      background-color: #434B5C;\n",
              "      box-shadow: 0px 1px 3px 1px rgba(0, 0, 0, 0.15);\n",
              "      filter: drop-shadow(0px 1px 2px rgba(0, 0, 0, 0.3));\n",
              "      fill: #FFFFFF;\n",
              "    }\n",
              "  </style>\n",
              "\n",
              "      <script>\n",
              "        const buttonEl =\n",
              "          document.querySelector('#df-bfb7f3a4-f154-43fd-b890-6291f0338d71 button.colab-df-convert');\n",
              "        buttonEl.style.display =\n",
              "          google.colab.kernel.accessAllowed ? 'block' : 'none';\n",
              "\n",
              "        async function convertToInteractive(key) {\n",
              "          const element = document.querySelector('#df-bfb7f3a4-f154-43fd-b890-6291f0338d71');\n",
              "          const dataTable =\n",
              "            await google.colab.kernel.invokeFunction('convertToInteractive',\n",
              "                                                     [key], {});\n",
              "          if (!dataTable) return;\n",
              "\n",
              "          const docLinkHtml = 'Like what you see? Visit the ' +\n",
              "            '<a target=\"_blank\" href=https://colab.research.google.com/notebooks/data_table.ipynb>data table notebook</a>'\n",
              "            + ' to learn more about interactive tables.';\n",
              "          element.innerHTML = '';\n",
              "          dataTable['output_type'] = 'display_data';\n",
              "          await google.colab.output.renderOutput(dataTable, element);\n",
              "          const docLink = document.createElement('div');\n",
              "          docLink.innerHTML = docLinkHtml;\n",
              "          element.appendChild(docLink);\n",
              "        }\n",
              "      </script>\n",
              "    </div>\n",
              "  </div>\n",
              "  "
            ]
          },
          "metadata": {},
          "execution_count": 3
        }
      ]
    },
    {
      "cell_type": "code",
      "source": [
        "# Let see how many columns and rows we have in the dataset\n",
        "\n",
        "df.shape"
      ],
      "metadata": {
        "colab": {
          "base_uri": "https://localhost:8080/"
        },
        "id": "hEozzcbK7k9L",
        "outputId": "aa24d21d-e324-443e-b12d-d63d5bd0dc99"
      },
      "execution_count": 4,
      "outputs": [
        {
          "output_type": "execute_result",
          "data": {
            "text/plain": [
              "(1025, 14)"
            ]
          },
          "metadata": {},
          "execution_count": 4
        }
      ]
    },
    {
      "cell_type": "code",
      "source": [
        "# let's have a look at the describtive statistics\n",
        "\n",
        "df.describe()\n"
      ],
      "metadata": {
        "colab": {
          "base_uri": "https://localhost:8080/",
          "height": 300
        },
        "id": "bvHqhE0_70w5",
        "outputId": "8fb2169f-6458-449e-f4c3-35ee1dec98c1"
      },
      "execution_count": 5,
      "outputs": [
        {
          "output_type": "execute_result",
          "data": {
            "text/plain": [
              "               age          sex           cp     trestbps        chol  \\\n",
              "count  1025.000000  1025.000000  1025.000000  1025.000000  1025.00000   \n",
              "mean     54.434146     0.695610     0.942439   131.611707   246.00000   \n",
              "std       9.072290     0.460373     1.029641    17.516718    51.59251   \n",
              "min      29.000000     0.000000     0.000000    94.000000   126.00000   \n",
              "25%      48.000000     0.000000     0.000000   120.000000   211.00000   \n",
              "50%      56.000000     1.000000     1.000000   130.000000   240.00000   \n",
              "75%      61.000000     1.000000     2.000000   140.000000   275.00000   \n",
              "max      77.000000     1.000000     3.000000   200.000000   564.00000   \n",
              "\n",
              "               fbs      restecg      thalach        exang      oldpeak  \\\n",
              "count  1025.000000  1025.000000  1025.000000  1025.000000  1025.000000   \n",
              "mean      0.149268     0.529756   149.114146     0.336585     1.071512   \n",
              "std       0.356527     0.527878    23.005724     0.472772     1.175053   \n",
              "min       0.000000     0.000000    71.000000     0.000000     0.000000   \n",
              "25%       0.000000     0.000000   132.000000     0.000000     0.000000   \n",
              "50%       0.000000     1.000000   152.000000     0.000000     0.800000   \n",
              "75%       0.000000     1.000000   166.000000     1.000000     1.800000   \n",
              "max       1.000000     2.000000   202.000000     1.000000     6.200000   \n",
              "\n",
              "             slope           ca         thal       target  \n",
              "count  1025.000000  1025.000000  1025.000000  1025.000000  \n",
              "mean      1.385366     0.754146     2.323902     0.513171  \n",
              "std       0.617755     1.030798     0.620660     0.500070  \n",
              "min       0.000000     0.000000     0.000000     0.000000  \n",
              "25%       1.000000     0.000000     2.000000     0.000000  \n",
              "50%       1.000000     0.000000     2.000000     1.000000  \n",
              "75%       2.000000     1.000000     3.000000     1.000000  \n",
              "max       2.000000     4.000000     3.000000     1.000000  "
            ],
            "text/html": [
              "\n",
              "  <div id=\"df-1fa283fb-9911-4631-84a4-6a7cab18af6d\">\n",
              "    <div class=\"colab-df-container\">\n",
              "      <div>\n",
              "<style scoped>\n",
              "    .dataframe tbody tr th:only-of-type {\n",
              "        vertical-align: middle;\n",
              "    }\n",
              "\n",
              "    .dataframe tbody tr th {\n",
              "        vertical-align: top;\n",
              "    }\n",
              "\n",
              "    .dataframe thead th {\n",
              "        text-align: right;\n",
              "    }\n",
              "</style>\n",
              "<table border=\"1\" class=\"dataframe\">\n",
              "  <thead>\n",
              "    <tr style=\"text-align: right;\">\n",
              "      <th></th>\n",
              "      <th>age</th>\n",
              "      <th>sex</th>\n",
              "      <th>cp</th>\n",
              "      <th>trestbps</th>\n",
              "      <th>chol</th>\n",
              "      <th>fbs</th>\n",
              "      <th>restecg</th>\n",
              "      <th>thalach</th>\n",
              "      <th>exang</th>\n",
              "      <th>oldpeak</th>\n",
              "      <th>slope</th>\n",
              "      <th>ca</th>\n",
              "      <th>thal</th>\n",
              "      <th>target</th>\n",
              "    </tr>\n",
              "  </thead>\n",
              "  <tbody>\n",
              "    <tr>\n",
              "      <th>count</th>\n",
              "      <td>1025.000000</td>\n",
              "      <td>1025.000000</td>\n",
              "      <td>1025.000000</td>\n",
              "      <td>1025.000000</td>\n",
              "      <td>1025.00000</td>\n",
              "      <td>1025.000000</td>\n",
              "      <td>1025.000000</td>\n",
              "      <td>1025.000000</td>\n",
              "      <td>1025.000000</td>\n",
              "      <td>1025.000000</td>\n",
              "      <td>1025.000000</td>\n",
              "      <td>1025.000000</td>\n",
              "      <td>1025.000000</td>\n",
              "      <td>1025.000000</td>\n",
              "    </tr>\n",
              "    <tr>\n",
              "      <th>mean</th>\n",
              "      <td>54.434146</td>\n",
              "      <td>0.695610</td>\n",
              "      <td>0.942439</td>\n",
              "      <td>131.611707</td>\n",
              "      <td>246.00000</td>\n",
              "      <td>0.149268</td>\n",
              "      <td>0.529756</td>\n",
              "      <td>149.114146</td>\n",
              "      <td>0.336585</td>\n",
              "      <td>1.071512</td>\n",
              "      <td>1.385366</td>\n",
              "      <td>0.754146</td>\n",
              "      <td>2.323902</td>\n",
              "      <td>0.513171</td>\n",
              "    </tr>\n",
              "    <tr>\n",
              "      <th>std</th>\n",
              "      <td>9.072290</td>\n",
              "      <td>0.460373</td>\n",
              "      <td>1.029641</td>\n",
              "      <td>17.516718</td>\n",
              "      <td>51.59251</td>\n",
              "      <td>0.356527</td>\n",
              "      <td>0.527878</td>\n",
              "      <td>23.005724</td>\n",
              "      <td>0.472772</td>\n",
              "      <td>1.175053</td>\n",
              "      <td>0.617755</td>\n",
              "      <td>1.030798</td>\n",
              "      <td>0.620660</td>\n",
              "      <td>0.500070</td>\n",
              "    </tr>\n",
              "    <tr>\n",
              "      <th>min</th>\n",
              "      <td>29.000000</td>\n",
              "      <td>0.000000</td>\n",
              "      <td>0.000000</td>\n",
              "      <td>94.000000</td>\n",
              "      <td>126.00000</td>\n",
              "      <td>0.000000</td>\n",
              "      <td>0.000000</td>\n",
              "      <td>71.000000</td>\n",
              "      <td>0.000000</td>\n",
              "      <td>0.000000</td>\n",
              "      <td>0.000000</td>\n",
              "      <td>0.000000</td>\n",
              "      <td>0.000000</td>\n",
              "      <td>0.000000</td>\n",
              "    </tr>\n",
              "    <tr>\n",
              "      <th>25%</th>\n",
              "      <td>48.000000</td>\n",
              "      <td>0.000000</td>\n",
              "      <td>0.000000</td>\n",
              "      <td>120.000000</td>\n",
              "      <td>211.00000</td>\n",
              "      <td>0.000000</td>\n",
              "      <td>0.000000</td>\n",
              "      <td>132.000000</td>\n",
              "      <td>0.000000</td>\n",
              "      <td>0.000000</td>\n",
              "      <td>1.000000</td>\n",
              "      <td>0.000000</td>\n",
              "      <td>2.000000</td>\n",
              "      <td>0.000000</td>\n",
              "    </tr>\n",
              "    <tr>\n",
              "      <th>50%</th>\n",
              "      <td>56.000000</td>\n",
              "      <td>1.000000</td>\n",
              "      <td>1.000000</td>\n",
              "      <td>130.000000</td>\n",
              "      <td>240.00000</td>\n",
              "      <td>0.000000</td>\n",
              "      <td>1.000000</td>\n",
              "      <td>152.000000</td>\n",
              "      <td>0.000000</td>\n",
              "      <td>0.800000</td>\n",
              "      <td>1.000000</td>\n",
              "      <td>0.000000</td>\n",
              "      <td>2.000000</td>\n",
              "      <td>1.000000</td>\n",
              "    </tr>\n",
              "    <tr>\n",
              "      <th>75%</th>\n",
              "      <td>61.000000</td>\n",
              "      <td>1.000000</td>\n",
              "      <td>2.000000</td>\n",
              "      <td>140.000000</td>\n",
              "      <td>275.00000</td>\n",
              "      <td>0.000000</td>\n",
              "      <td>1.000000</td>\n",
              "      <td>166.000000</td>\n",
              "      <td>1.000000</td>\n",
              "      <td>1.800000</td>\n",
              "      <td>2.000000</td>\n",
              "      <td>1.000000</td>\n",
              "      <td>3.000000</td>\n",
              "      <td>1.000000</td>\n",
              "    </tr>\n",
              "    <tr>\n",
              "      <th>max</th>\n",
              "      <td>77.000000</td>\n",
              "      <td>1.000000</td>\n",
              "      <td>3.000000</td>\n",
              "      <td>200.000000</td>\n",
              "      <td>564.00000</td>\n",
              "      <td>1.000000</td>\n",
              "      <td>2.000000</td>\n",
              "      <td>202.000000</td>\n",
              "      <td>1.000000</td>\n",
              "      <td>6.200000</td>\n",
              "      <td>2.000000</td>\n",
              "      <td>4.000000</td>\n",
              "      <td>3.000000</td>\n",
              "      <td>1.000000</td>\n",
              "    </tr>\n",
              "  </tbody>\n",
              "</table>\n",
              "</div>\n",
              "      <button class=\"colab-df-convert\" onclick=\"convertToInteractive('df-1fa283fb-9911-4631-84a4-6a7cab18af6d')\"\n",
              "              title=\"Convert this dataframe to an interactive table.\"\n",
              "              style=\"display:none;\">\n",
              "        \n",
              "  <svg xmlns=\"http://www.w3.org/2000/svg\" height=\"24px\"viewBox=\"0 0 24 24\"\n",
              "       width=\"24px\">\n",
              "    <path d=\"M0 0h24v24H0V0z\" fill=\"none\"/>\n",
              "    <path d=\"M18.56 5.44l.94 2.06.94-2.06 2.06-.94-2.06-.94-.94-2.06-.94 2.06-2.06.94zm-11 1L8.5 8.5l.94-2.06 2.06-.94-2.06-.94L8.5 2.5l-.94 2.06-2.06.94zm10 10l.94 2.06.94-2.06 2.06-.94-2.06-.94-.94-2.06-.94 2.06-2.06.94z\"/><path d=\"M17.41 7.96l-1.37-1.37c-.4-.4-.92-.59-1.43-.59-.52 0-1.04.2-1.43.59L10.3 9.45l-7.72 7.72c-.78.78-.78 2.05 0 2.83L4 21.41c.39.39.9.59 1.41.59.51 0 1.02-.2 1.41-.59l7.78-7.78 2.81-2.81c.8-.78.8-2.07 0-2.86zM5.41 20L4 18.59l7.72-7.72 1.47 1.35L5.41 20z\"/>\n",
              "  </svg>\n",
              "      </button>\n",
              "      \n",
              "  <style>\n",
              "    .colab-df-container {\n",
              "      display:flex;\n",
              "      flex-wrap:wrap;\n",
              "      gap: 12px;\n",
              "    }\n",
              "\n",
              "    .colab-df-convert {\n",
              "      background-color: #E8F0FE;\n",
              "      border: none;\n",
              "      border-radius: 50%;\n",
              "      cursor: pointer;\n",
              "      display: none;\n",
              "      fill: #1967D2;\n",
              "      height: 32px;\n",
              "      padding: 0 0 0 0;\n",
              "      width: 32px;\n",
              "    }\n",
              "\n",
              "    .colab-df-convert:hover {\n",
              "      background-color: #E2EBFA;\n",
              "      box-shadow: 0px 1px 2px rgba(60, 64, 67, 0.3), 0px 1px 3px 1px rgba(60, 64, 67, 0.15);\n",
              "      fill: #174EA6;\n",
              "    }\n",
              "\n",
              "    [theme=dark] .colab-df-convert {\n",
              "      background-color: #3B4455;\n",
              "      fill: #D2E3FC;\n",
              "    }\n",
              "\n",
              "    [theme=dark] .colab-df-convert:hover {\n",
              "      background-color: #434B5C;\n",
              "      box-shadow: 0px 1px 3px 1px rgba(0, 0, 0, 0.15);\n",
              "      filter: drop-shadow(0px 1px 2px rgba(0, 0, 0, 0.3));\n",
              "      fill: #FFFFFF;\n",
              "    }\n",
              "  </style>\n",
              "\n",
              "      <script>\n",
              "        const buttonEl =\n",
              "          document.querySelector('#df-1fa283fb-9911-4631-84a4-6a7cab18af6d button.colab-df-convert');\n",
              "        buttonEl.style.display =\n",
              "          google.colab.kernel.accessAllowed ? 'block' : 'none';\n",
              "\n",
              "        async function convertToInteractive(key) {\n",
              "          const element = document.querySelector('#df-1fa283fb-9911-4631-84a4-6a7cab18af6d');\n",
              "          const dataTable =\n",
              "            await google.colab.kernel.invokeFunction('convertToInteractive',\n",
              "                                                     [key], {});\n",
              "          if (!dataTable) return;\n",
              "\n",
              "          const docLinkHtml = 'Like what you see? Visit the ' +\n",
              "            '<a target=\"_blank\" href=https://colab.research.google.com/notebooks/data_table.ipynb>data table notebook</a>'\n",
              "            + ' to learn more about interactive tables.';\n",
              "          element.innerHTML = '';\n",
              "          dataTable['output_type'] = 'display_data';\n",
              "          await google.colab.output.renderOutput(dataTable, element);\n",
              "          const docLink = document.createElement('div');\n",
              "          docLink.innerHTML = docLinkHtml;\n",
              "          element.appendChild(docLink);\n",
              "        }\n",
              "      </script>\n",
              "    </div>\n",
              "  </div>\n",
              "  "
            ]
          },
          "metadata": {},
          "execution_count": 5
        }
      ]
    },
    {
      "cell_type": "code",
      "source": [
        "df['target'].value_counts()"
      ],
      "metadata": {
        "colab": {
          "base_uri": "https://localhost:8080/"
        },
        "id": "Nyk_JyiIHNw1",
        "outputId": "9d1d36be-8b5b-47ce-fdd8-1cb7d41d5a8d"
      },
      "execution_count": 6,
      "outputs": [
        {
          "output_type": "execute_result",
          "data": {
            "text/plain": [
              "1    526\n",
              "0    499\n",
              "Name: target, dtype: int64"
            ]
          },
          "metadata": {},
          "execution_count": 6
        }
      ]
    },
    {
      "cell_type": "markdown",
      "source": [
        "0 ----> Healthy Heart\n",
        "\n",
        "\n",
        "1 ----> Unhealthy Heart"
      ],
      "metadata": {
        "id": "Hh7-V-mNHUE4"
      }
    },
    {
      "cell_type": "code",
      "source": [
        "# Lets have a look at the infomation about the dataset\n",
        "\n",
        "df.info()"
      ],
      "metadata": {
        "colab": {
          "base_uri": "https://localhost:8080/"
        },
        "id": "CBWJyOjB8QSo",
        "outputId": "57132f5a-8f56-4f7d-9c77-952d2be34197"
      },
      "execution_count": 7,
      "outputs": [
        {
          "output_type": "stream",
          "name": "stdout",
          "text": [
            "<class 'pandas.core.frame.DataFrame'>\n",
            "RangeIndex: 1025 entries, 0 to 1024\n",
            "Data columns (total 14 columns):\n",
            " #   Column    Non-Null Count  Dtype  \n",
            "---  ------    --------------  -----  \n",
            " 0   age       1025 non-null   int64  \n",
            " 1   sex       1025 non-null   int64  \n",
            " 2   cp        1025 non-null   int64  \n",
            " 3   trestbps  1025 non-null   int64  \n",
            " 4   chol      1025 non-null   int64  \n",
            " 5   fbs       1025 non-null   int64  \n",
            " 6   restecg   1025 non-null   int64  \n",
            " 7   thalach   1025 non-null   int64  \n",
            " 8   exang     1025 non-null   int64  \n",
            " 9   oldpeak   1025 non-null   float64\n",
            " 10  slope     1025 non-null   int64  \n",
            " 11  ca        1025 non-null   int64  \n",
            " 12  thal      1025 non-null   int64  \n",
            " 13  target    1025 non-null   int64  \n",
            "dtypes: float64(1), int64(13)\n",
            "memory usage: 112.2 KB\n"
          ]
        }
      ]
    },
    {
      "cell_type": "code",
      "source": [
        "# Lets see if the are any missing values in our dataset\n",
        "\n",
        "df.isnull().sum()"
      ],
      "metadata": {
        "colab": {
          "base_uri": "https://localhost:8080/"
        },
        "id": "4Q52LPvs8jl5",
        "outputId": "45e2c723-432d-4e92-f7cf-7f1793c49ff4"
      },
      "execution_count": 8,
      "outputs": [
        {
          "output_type": "execute_result",
          "data": {
            "text/plain": [
              "age         0\n",
              "sex         0\n",
              "cp          0\n",
              "trestbps    0\n",
              "chol        0\n",
              "fbs         0\n",
              "restecg     0\n",
              "thalach     0\n",
              "exang       0\n",
              "oldpeak     0\n",
              "slope       0\n",
              "ca          0\n",
              "thal        0\n",
              "target      0\n",
              "dtype: int64"
            ]
          },
          "metadata": {},
          "execution_count": 8
        }
      ]
    },
    {
      "cell_type": "markdown",
      "source": [
        "We can see from the analysis above that we have a clean dataset without any missing values and that there is a target column that is present. We will look at this target column later to perform some machine learning predictions."
      ],
      "metadata": {
        "id": "cnFvIuT-8uwZ"
      }
    },
    {
      "cell_type": "markdown",
      "source": [
        "# *Exploratory Data Analysis*"
      ],
      "metadata": {
        "id": "RaDmsOCDK3ro"
      }
    },
    {
      "cell_type": "code",
      "source": [
        "mlabel=[df['target'].value_counts()[1],df['target'].value_counts()[0]]\n",
        "plt.figure(figsize=(8,8))\n",
        "df['target'].value_counts().plot(kind='pie',labels=mlabel,autopct='%1.1f%%',colors=['#ff7722','#2E86C1'])\n",
        "plt.title('Heart Attack Distribution',loc='left')\n",
        "plt.legend(['Heart attack','No-Heart attack'],loc='best')\n",
        "plt.show()"
      ],
      "metadata": {
        "colab": {
          "base_uri": "https://localhost:8080/",
          "height": 675
        },
        "id": "ZnK5gCrHKnXB",
        "outputId": "5e79b48a-d63e-40af-c496-982f1cbe9f7d"
      },
      "execution_count": 9,
      "outputs": [
        {
          "output_type": "display_data",
          "data": {
            "text/plain": [
              "<Figure size 800x800 with 1 Axes>"
            ],
            "image/png": "[encoded data removed]"
          },
          "metadata": {}
        }
      ]
    },
    {
      "cell_type": "code",
      "source": [
        "df['age'].hist(bins=10,edgecolor='black')\n",
        "plt.xlabel('Age')\n",
        "plt.title('Fig-3 : Age Distribution along the datset\\n',loc='left')\n",
        "plt.show()"
      ],
      "metadata": {
        "colab": {
          "base_uri": "https://localhost:8080/",
          "height": 493
        },
        "id": "fUT6A1iqKnUw",
        "outputId": "f107d24a-3a5d-464e-c2fb-78052f4d9c60"
      },
      "execution_count": 10,
      "outputs": [
        {
          "output_type": "display_data",
          "data": {
            "text/plain": [
              "<Figure size 640x480 with 1 Axes>"
            ],
            "image/png": "[encoded data removed]"
          },
          "metadata": {}
        }
      ]
    },
    {
      "cell_type": "code",
      "source": [],
      "metadata": {
        "id": "wlATRzbYKnSw"
      },
      "execution_count": 10,
      "outputs": []
    },
    {
      "cell_type": "markdown",
      "source": [
        "# **Let's Split the Data into Features and Targets**\n",
        "\n"
      ],
      "metadata": {
        "id": "R-FWe-FxHlCp"
      }
    },
    {
      "cell_type": "code",
      "source": [
        "X = df.drop(columns = 'target', axis = 1)\n",
        "\n",
        "Y = df['target']"
      ],
      "metadata": {
        "id": "zsG_5EukHk0A"
      },
      "execution_count": 11,
      "outputs": []
    },
    {
      "cell_type": "code",
      "source": [
        "X.head()"
      ],
      "metadata": {
        "colab": {
          "base_uri": "https://localhost:8080/",
          "height": 206
        },
        "id": "YHgpjry5Hkuw",
        "outputId": "eddc2d93-37d6-44df-f724-30d6d53d5822"
      },
      "execution_count": 12,
      "outputs": [
        {
          "output_type": "execute_result",
          "data": {
            "text/plain": [
              "   age  sex  cp  trestbps  chol  fbs  restecg  thalach  exang  oldpeak  slope  \\\n",
              "0   52    1   0       125   212    0        1      168      0      1.0      2   \n",
              "1   53    1   0       140   203    1        0      155      1      3.1      0   \n",
              "2   70    1   0       145   174    0        1      125      1      2.6      0   \n",
              "3   61    1   0       148   203    0        1      161      0      0.0      2   \n",
              "4   62    0   0       138   294    1        1      106      0      1.9      1   \n",
              "\n",
              "   ca  thal  \n",
              "0   2     3  \n",
              "1   0     3  \n",
              "2   0     3  \n",
              "3   1     3  \n",
              "4   3     2  "
            ],
            "text/html": [
              "\n",
              "  <div id=\"df-9dfcad93-a5f3-4dda-a60f-529df2d77d07\">\n",
              "    <div class=\"colab-df-container\">\n",
              "      <div>\n",
              "<style scoped>\n",
              "    .dataframe tbody tr th:only-of-type {\n",
              "        vertical-align: middle;\n",
              "    }\n",
              "\n",
              "    .dataframe tbody tr th {\n",
              "        vertical-align: top;\n",
              "    }\n",
              "\n",
              "    .dataframe thead th {\n",
              "        text-align: right;\n",
              "    }\n",
              "</style>\n",
              "<table border=\"1\" class=\"dataframe\">\n",
              "  <thead>\n",
              "    <tr style=\"text-align: right;\">\n",
              "      <th></th>\n",
              "      <th>age</th>\n",
              "      <th>sex</th>\n",
              "      <th>cp</th>\n",
              "      <th>trestbps</th>\n",
              "      <th>chol</th>\n",
              "      <th>fbs</th>\n",
              "      <th>restecg</th>\n",
              "      <th>thalach</th>\n",
              "      <th>exang</th>\n",
              "      <th>oldpeak</th>\n",
              "      <th>slope</th>\n",
              "      <th>ca</th>\n",
              "      <th>thal</th>\n",
              "    </tr>\n",
              "  </thead>\n",
              "  <tbody>\n",
              "    <tr>\n",
              "      <th>0</th>\n",
              "      <td>52</td>\n",
              "      <td>1</td>\n",
              "      <td>0</td>\n",
              "      <td>125</td>\n",
              "      <td>212</td>\n",
              "      <td>0</td>\n",
              "      <td>1</td>\n",
              "      <td>168</td>\n",
              "      <td>0</td>\n",
              "      <td>1.0</td>\n",
              "      <td>2</td>\n",
              "      <td>2</td>\n",
              "      <td>3</td>\n",
              "    </tr>\n",
              "    <tr>\n",
              "      <th>1</th>\n",
              "      <td>53</td>\n",
              "      <td>1</td>\n",
              "      <td>0</td>\n",
              "      <td>140</td>\n",
              "      <td>203</td>\n",
              "      <td>1</td>\n",
              "      <td>0</td>\n",
              "      <td>155</td>\n",
              "      <td>1</td>\n",
              "      <td>3.1</td>\n",
              "      <td>0</td>\n",
              "      <td>0</td>\n",
              "      <td>3</td>\n",
              "    </tr>\n",
              "    <tr>\n",
              "      <th>2</th>\n",
              "      <td>70</td>\n",
              "      <td>1</td>\n",
              "      <td>0</td>\n",
              "      <td>145</td>\n",
              "      <td>174</td>\n",
              "      <td>0</td>\n",
              "      <td>1</td>\n",
              "      <td>125</td>\n",
              "      <td>1</td>\n",
              "      <td>2.6</td>\n",
              "      <td>0</td>\n",
              "      <td>0</td>\n",
              "      <td>3</td>\n",
              "    </tr>\n",
              "    <tr>\n",
              "      <th>3</th>\n",
              "      <td>61</td>\n",
              "      <td>1</td>\n",
              "      <td>0</td>\n",
              "      <td>148</td>\n",
              "      <td>203</td>\n",
              "      <td>0</td>\n",
              "      <td>1</td>\n",
              "      <td>161</td>\n",
              "      <td>0</td>\n",
              "      <td>0.0</td>\n",
              "      <td>2</td>\n",
              "      <td>1</td>\n",
              "      <td>3</td>\n",
              "    </tr>\n",
              "    <tr>\n",
              "      <th>4</th>\n",
              "      <td>62</td>\n",
              "      <td>0</td>\n",
              "      <td>0</td>\n",
              "      <td>138</td>\n",
              "      <td>294</td>\n",
              "      <td>1</td>\n",
              "      <td>1</td>\n",
              "      <td>106</td>\n",
              "      <td>0</td>\n",
              "      <td>1.9</td>\n",
              "      <td>1</td>\n",
              "      <td>3</td>\n",
              "      <td>2</td>\n",
              "    </tr>\n",
              "  </tbody>\n",
              "</table>\n",
              "</div>\n",
              "      <button class=\"colab-df-convert\" onclick=\"convertToInteractive('df-9dfcad93-a5f3-4dda-a60f-529df2d77d07')\"\n",
              "              title=\"Convert this dataframe to an interactive table.\"\n",
              "              style=\"display:none;\">\n",
              "        \n",
              "  <svg xmlns=\"http://www.w3.org/2000/svg\" height=\"24px\"viewBox=\"0 0 24 24\"\n",
              "       width=\"24px\">\n",
              "    <path d=\"M0 0h24v24H0V0z\" fill=\"none\"/>\n",
              "    <path d=\"M18.56 5.44l.94 2.06.94-2.06 2.06-.94-2.06-.94-.94-2.06-.94 2.06-2.06.94zm-11 1L8.5 8.5l.94-2.06 2.06-.94-2.06-.94L8.5 2.5l-.94 2.06-2.06.94zm10 10l.94 2.06.94-2.06 2.06-.94-2.06-.94-.94-2.06-.94 2.06-2.06.94z\"/><path d=\"M17.41 7.96l-1.37-1.37c-.4-.4-.92-.59-1.43-.59-.52 0-1.04.2-1.43.59L10.3 9.45l-7.72 7.72c-.78.78-.78 2.05 0 2.83L4 21.41c.39.39.9.59 1.41.59.51 0 1.02-.2 1.41-.59l7.78-7.78 2.81-2.81c.8-.78.8-2.07 0-2.86zM5.41 20L4 18.59l7.72-7.72 1.47 1.35L5.41 20z\"/>\n",
              "  </svg>\n",
              "      </button>\n",
              "      \n",
              "  <style>\n",
              "    .colab-df-container {\n",
              "      display:flex;\n",
              "      flex-wrap:wrap;\n",
              "      gap: 12px;\n",
              "    }\n",
              "\n",
              "    .colab-df-convert {\n",
              "      background-color: #E8F0FE;\n",
              "      border: none;\n",
              "      border-radius: 50%;\n",
              "      cursor: pointer;\n",
              "      display: none;\n",
              "      fill: #1967D2;\n",
              "      height: 32px;\n",
              "      padding: 0 0 0 0;\n",
              "      width: 32px;\n",
              "    }\n",
              "\n",
              "    .colab-df-convert:hover {\n",
              "      background-color: #E2EBFA;\n",
              "      box-shadow: 0px 1px 2px rgba(60, 64, 67, 0.3), 0px 1px 3px 1px rgba(60, 64, 67, 0.15);\n",
              "      fill: #174EA6;\n",
              "    }\n",
              "\n",
              "    [theme=dark] .colab-df-convert {\n",
              "      background-color: #3B4455;\n",
              "      fill: #D2E3FC;\n",
              "    }\n",
              "\n",
              "    [theme=dark] .colab-df-convert:hover {\n",
              "      background-color: #434B5C;\n",
              "      box-shadow: 0px 1px 3px 1px rgba(0, 0, 0, 0.15);\n",
              "      filter: drop-shadow(0px 1px 2px rgba(0, 0, 0, 0.3));\n",
              "      fill: #FFFFFF;\n",
              "    }\n",
              "  </style>\n",
              "\n",
              "      <script>\n",
              "        const buttonEl =\n",
              "          document.querySelector('#df-9dfcad93-a5f3-4dda-a60f-529df2d77d07 button.colab-df-convert');\n",
              "        buttonEl.style.display =\n",
              "          google.colab.kernel.accessAllowed ? 'block' : 'none';\n",
              "\n",
              "        async function convertToInteractive(key) {\n",
              "          const element = document.querySelector('#df-9dfcad93-a5f3-4dda-a60f-529df2d77d07');\n",
              "          const dataTable =\n",
              "            await google.colab.kernel.invokeFunction('convertToInteractive',\n",
              "                                                     [key], {});\n",
              "          if (!dataTable) return;\n",
              "\n",
              "          const docLinkHtml = 'Like what you see? Visit the ' +\n",
              "            '<a target=\"_blank\" href=https://colab.research.google.com/notebooks/data_table.ipynb>data table notebook</a>'\n",
              "            + ' to learn more about interactive tables.';\n",
              "          element.innerHTML = '';\n",
              "          dataTable['output_type'] = 'display_data';\n",
              "          await google.colab.output.renderOutput(dataTable, element);\n",
              "          const docLink = document.createElement('div');\n",
              "          docLink.innerHTML = docLinkHtml;\n",
              "          element.appendChild(docLink);\n",
              "        }\n",
              "      </script>\n",
              "    </div>\n",
              "  </div>\n",
              "  "
            ]
          },
          "metadata": {},
          "execution_count": 12
        }
      ]
    },
    {
      "cell_type": "code",
      "source": [
        "Y.head()"
      ],
      "metadata": {
        "colab": {
          "base_uri": "https://localhost:8080/"
        },
        "id": "T2RffQHpIJEY",
        "outputId": "2b1e62a8-7335-43f3-ea36-9cd96e1c0007"
      },
      "execution_count": 13,
      "outputs": [
        {
          "output_type": "execute_result",
          "data": {
            "text/plain": [
              "0    0\n",
              "1    0\n",
              "2    0\n",
              "3    0\n",
              "4    0\n",
              "Name: target, dtype: int64"
            ]
          },
          "metadata": {},
          "execution_count": 13
        }
      ]
    },
    {
      "cell_type": "code",
      "source": [
        "print(X)\n",
        "print(Y)"
      ],
      "metadata": {
        "colab": {
          "base_uri": "https://localhost:8080/"
        },
        "id": "lEoffa56IjrR",
        "outputId": "5a813477-780a-4b71-88a6-a1d1e3e36df9"
      },
      "execution_count": 14,
      "outputs": [
        {
          "output_type": "stream",
          "name": "stdout",
          "text": [
            "      age  sex  cp  trestbps  chol  fbs  restecg  thalach  exang  oldpeak  \\\n",
            "0      52    1   0       125   212    0        1      168      0      1.0   \n",
            "1      53    1   0       140   203    1        0      155      1      3.1   \n",
            "2      70    1   0       145   174    0        1      125      1      2.6   \n",
            "3      61    1   0       148   203    0        1      161      0      0.0   \n",
            "4      62    0   0       138   294    1        1      106      0      1.9   \n",
            "...   ...  ...  ..       ...   ...  ...      ...      ...    ...      ...   \n",
            "1020   59    1   1       140   221    0        1      164      1      0.0   \n",
            "1021   60    1   0       125   258    0        0      141      1      2.8   \n",
            "1022   47    1   0       110   275    0        0      118      1      1.0   \n",
            "1023   50    0   0       110   254    0        0      159      0      0.0   \n",
            "1024   54    1   0       120   188    0        1      113      0      1.4   \n",
            "\n",
            "      slope  ca  thal  \n",
            "0         2   2     3  \n",
            "1         0   0     3  \n",
            "2         0   0     3  \n",
            "3         2   1     3  \n",
            "4         1   3     2  \n",
            "...     ...  ..   ...  \n",
            "1020      2   0     2  \n",
            "1021      1   1     3  \n",
            "1022      1   1     2  \n",
            "1023      2   0     2  \n",
            "1024      1   1     3  \n",
            "\n",
            "[1025 rows x 13 columns]\n",
            "0       0\n",
            "1       0\n",
            "2       0\n",
            "3       0\n",
            "4       0\n",
            "       ..\n",
            "1020    1\n",
            "1021    0\n",
            "1022    0\n",
            "1023    1\n",
            "1024    0\n",
            "Name: target, Length: 1025, dtype: int64\n"
          ]
        }
      ]
    },
    {
      "cell_type": "markdown",
      "source": [
        "# **Splitting the data into Training Data and Testing Data**"
      ],
      "metadata": {
        "id": "T3GMRtg9Iapo"
      }
    },
    {
      "cell_type": "code",
      "source": [
        "X_train, X_test, Y_train, Y_test = train_test_split(X, Y, test_size=0.2, stratify=Y, random_state=2)"
      ],
      "metadata": {
        "id": "08MaRGvhINhY"
      },
      "execution_count": 15,
      "outputs": []
    },
    {
      "cell_type": "code",
      "source": [
        "print(X.shape, X_train.shape, X_test.shape)"
      ],
      "metadata": {
        "colab": {
          "base_uri": "https://localhost:8080/"
        },
        "id": "mjJDU0MYJipZ",
        "outputId": "4b0ffc61-cf44-407c-e7cb-70dfeca5754a"
      },
      "execution_count": 16,
      "outputs": [
        {
          "output_type": "stream",
          "name": "stdout",
          "text": [
            "(1025, 13) (820, 13) (205, 13)\n"
          ]
        }
      ]
    },
    {
      "cell_type": "markdown",
      "source": [
        "## **Now lets train our model**"
      ],
      "metadata": {
        "id": "0JTAxlDeJ1zB"
      }
    },
    {
      "cell_type": "markdown",
      "source": [],
      "metadata": {
        "id": "lKt75_inR9im"
      }
    },
    {
      "cell_type": "code",
      "source": [
        "model = LogisticRegression()"
      ],
      "metadata": {
        "id": "2UPChGfAJuAJ"
      },
      "execution_count": 17,
      "outputs": []
    },
    {
      "cell_type": "code",
      "source": [
        "# training the LogisticRegression Model with the training data\n",
        "\n",
        "model.fit(X_train, Y_train)"
      ],
      "metadata": {
        "colab": {
          "base_uri": "https://localhost:8080/",
          "height": 214
        },
        "id": "e6PepZK-J-Ag",
        "outputId": "94c35f77-3bc9-4ded-b7f2-386c221d6cd4"
      },
      "execution_count": 18,
      "outputs": [
        {
          "output_type": "stream",
          "name": "stderr",
          "text": [
            "/usr/local/lib/python3.10/dist-packages/sklearn/linear_model/_logistic.py:458: ConvergenceWarning: lbfgs failed to converge (status=1):\n",
            "STOP: TOTAL NO. of ITERATIONS REACHED LIMIT.\n",
            "\n",
            "Increase the number of iterations (max_iter) or scale the data as shown in:\n",
            "    https://scikit-learn.org/stable/modules/preprocessing.html\n",
            "Please also refer to the documentation for alternative solver options:\n",
            "    https://scikit-learn.org/stable/modules/linear_model.html#logistic-regression\n",
            "  n_iter_i = _check_optimize_result(\n"
          ]
        },
        {
          "output_type": "execute_result",
          "data": {
            "text/plain": [
              "LogisticRegression()"
            ],
            "text/html": [
              "<style>#sk-container-id-1 {color: black;background-color: white;}#sk-container-id-1 pre{padding: 0;}#sk-container-id-1 div.sk-toggleable {background-color: white;}#sk-container-id-1 label.sk-toggleable__label {cursor: pointer;display: block;width: 100%;margin-bottom: 0;padding: 0.3em;box-sizing: border-box;text-align: center;}#sk-container-id-1 label.sk-toggleable__label-arrow:before {content: \"▸\";float: left;margin-right: 0.25em;color: #696969;}#sk-container-id-1 label.sk-toggleable__label-arrow:hover:before {color: black;}#sk-container-id-1 div.sk-estimator:hover label.sk-toggleable__label-arrow:before {color: black;}#sk-container-id-1 div.sk-toggleable__content {max-height: 0;max-width: 0;overflow: hidden;text-align: left;background-color: #f0f8ff;}#sk-container-id-1 div.sk-toggleable__content pre {margin: 0.2em;color: black;border-radius: 0.25em;background-color: #f0f8ff;}#sk-container-id-1 input.sk-toggleable__control:checked~div.sk-toggleable__content {max-height: 200px;max-width: 100%;overflow: auto;}#sk-container-id-1 input.sk-toggleable__control:checked~label.sk-toggleable__label-arrow:before {content: \"▾\";}#sk-container-id-1 div.sk-estimator input.sk-toggleable__control:checked~label.sk-toggleable__label {background-color: #d4ebff;}#sk-container-id-1 div.sk-label input.sk-toggleable__control:checked~label.sk-toggleable__label {background-color: #d4ebff;}#sk-container-id-1 input.sk-hidden--visually {border: 0;clip: rect(1px 1px 1px 1px);clip: rect(1px, 1px, 1px, 1px);height: 1px;margin: -1px;overflow: hidden;padding: 0;position: absolute;width: 1px;}#sk-container-id-1 div.sk-estimator {font-family: monospace;background-color: #f0f8ff;border: 1px dotted black;border-radius: 0.25em;box-sizing: border-box;margin-bottom: 0.5em;}#sk-container-id-1 div.sk-estimator:hover {background-color: #d4ebff;}#sk-container-id-1 div.sk-parallel-item::after {content: \"\";width: 100%;border-bottom: 1px solid gray;flex-grow: 1;}#sk-container-id-1 div.sk-label:hover label.sk-toggleable__label {background-color: #d4ebff;}#sk-container-id-1 div.sk-serial::before {content: \"\";position: absolute;border-left: 1px solid gray;box-sizing: border-box;top: 0;bottom: 0;left: 50%;z-index: 0;}#sk-container-id-1 div.sk-serial {display: flex;flex-direction: column;align-items: center;background-color: white;padding-right: 0.2em;padding-left: 0.2em;position: relative;}#sk-container-id-1 div.sk-item {position: relative;z-index: 1;}#sk-container-id-1 div.sk-parallel {display: flex;align-items: stretch;justify-content: center;background-color: white;position: relative;}#sk-container-id-1 div.sk-item::before, #sk-container-id-1 div.sk-parallel-item::before {content: \"\";position: absolute;border-left: 1px solid gray;box-sizing: border-box;top: 0;bottom: 0;left: 50%;z-index: -1;}#sk-container-id-1 div.sk-parallel-item {display: flex;flex-direction: column;z-index: 1;position: relative;background-color: white;}#sk-container-id-1 div.sk-parallel-item:first-child::after {align-self: flex-end;width: 50%;}#sk-container-id-1 div.sk-parallel-item:last-child::after {align-self: flex-start;width: 50%;}#sk-container-id-1 div.sk-parallel-item:only-child::after {width: 0;}#sk-container-id-1 div.sk-dashed-wrapped {border: 1px dashed gray;margin: 0 0.4em 0.5em 0.4em;box-sizing: border-box;padding-bottom: 0.4em;background-color: white;}#sk-container-id-1 div.sk-label label {font-family: monospace;font-weight: bold;display: inline-block;line-height: 1.2em;}#sk-container-id-1 div.sk-label-container {text-align: center;}#sk-container-id-1 div.sk-container {/* jupyter's `normalize.less` sets `[hidden] { display: none; }` but bootstrap.min.css set `[hidden] { display: none !important; }` so we also need the `!important` here to be able to override the default hidden behavior on the sphinx rendered scikit-learn.org. See: https://github.com/scikit-learn/scikit-learn/issues/21755 */display: inline-block !important;position: relative;}#sk-container-id-1 div.sk-text-repr-fallback {display: none;}</style><div id=\"sk-container-id-1\" class=\"sk-top-container\"><div class=\"sk-text-repr-fallback\"><pre>LogisticRegression()</pre><b>In a Jupyter environment, please rerun this cell to show the HTML representation or trust the notebook. <br />On GitHub, the HTML representation is unable to render, please try loading this page with nbviewer.org.</b></div><div class=\"sk-container\" hidden><div class=\"sk-item\"><div class=\"sk-estimator sk-toggleable\"><input class=\"sk-toggleable__control sk-hidden--visually\" id=\"sk-estimator-id-1\" type=\"checkbox\" checked><label for=\"sk-estimator-id-1\" class=\"sk-toggleable__label sk-toggleable__label-arrow\">LogisticRegression</label><div class=\"sk-toggleable__content\"><pre>LogisticRegression()</pre></div></div></div></div></div>"
            ]
          },
          "metadata": {},
          "execution_count": 18
        }
      ]
    },
    {
      "cell_type": "markdown",
      "source": [
        "# **Model Evaluation**"
      ],
      "metadata": {
        "id": "BRjNc7Q5MSUh"
      }
    },
    {
      "cell_type": "code",
      "source": [
        "# accuracy score on training data\n",
        "\n",
        "X_train_prediction = model.predict(X_train)\n",
        "training_data_accuracy = accuracy_score(X_train_prediction, Y_train)"
      ],
      "metadata": {
        "id": "HUT6AUZyKQ5B"
      },
      "execution_count": 19,
      "outputs": []
    },
    {
      "cell_type": "code",
      "source": [
        "print(\"Accuracy Score on the Training that is : \", training_data_accuracy)"
      ],
      "metadata": {
        "colab": {
          "base_uri": "https://localhost:8080/"
        },
        "id": "3EP0JlpFM2Mz",
        "outputId": "cba49ae3-6d91-4655-d693-8fd46c2b7157"
      },
      "execution_count": 20,
      "outputs": [
        {
          "output_type": "stream",
          "name": "stdout",
          "text": [
            "Accuracy Score on the Training that is :  0.8524390243902439\n"
          ]
        }
      ]
    },
    {
      "cell_type": "code",
      "source": [
        "# accuracy score on test data\n",
        "\n",
        "X_test_prediction = model.predict(X_test)\n",
        "testing_data_accuracy = accuracy_score(X_test_prediction, Y_test)"
      ],
      "metadata": {
        "id": "qzSbT4aKNFOg"
      },
      "execution_count": 21,
      "outputs": []
    },
    {
      "cell_type": "code",
      "source": [
        "print(\"Accuracy Score on the Testing that is : \", testing_data_accuracy)"
      ],
      "metadata": {
        "colab": {
          "base_uri": "https://localhost:8080/"
        },
        "id": "7wAuMovqNaFY",
        "outputId": "69ba7697-5e26-4e89-ff59-ef2cd25ab7a8"
      },
      "execution_count": 22,
      "outputs": [
        {
          "output_type": "stream",
          "name": "stdout",
          "text": [
            "Accuracy Score on the Testing that is :  0.8048780487804879\n"
          ]
        }
      ]
    },
    {
      "cell_type": "markdown",
      "source": [
        "# **Let's Build a predictive System**"
      ],
      "metadata": {
        "id": "TAK4PLuTNvXd"
      }
    },
    {
      "cell_type": "code",
      "source": [
        "input_data = (42,0,2,120,209,0,1,173,0,0,1,0,2)\n",
        "\n",
        "# change the input data to a numpy array\n",
        "\n",
        "input_data_as_numpy_array = np.asarray(input_data)\n",
        "\n",
        "# reshape the numpy arrray as we are predicting for only on instance\n",
        "\n",
        "input_data_reshaped = input_data_as_numpy_array.reshape(1,-1)\n",
        "\n",
        "prediction = model.predict(input_data_reshaped)\n",
        "print(prediction)\n",
        "\n",
        "if (prediction[0] == 0):\n",
        "  print(\"The Perosn does not have a Heart Disease\")\n",
        "else:\n",
        "    print(\"The person has a Heart Disease\")"
      ],
      "metadata": {
        "colab": {
          "base_uri": "https://localhost:8080/"
        },
        "id": "sYHpTjwkNz1H",
        "outputId": "c5325ebc-bf6a-4f6f-92f6-6b45b973ad36"
      },
      "execution_count": 23,
      "outputs": [
        {
          "output_type": "stream",
          "name": "stdout",
          "text": [
            "[1]\n",
            "The person has a Heart Disease\n"
          ]
        },
        {
          "output_type": "stream",
          "name": "stderr",
          "text": [
            "/usr/local/lib/python3.10/dist-packages/sklearn/base.py:439: UserWarning: X does not have valid feature names, but LogisticRegression was fitted with feature names\n",
            "  warnings.warn(\n"
          ]
        }
      ]
    }
  ]
}